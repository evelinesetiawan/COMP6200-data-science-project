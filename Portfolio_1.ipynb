{
 "cells": [
  {
   "cell_type": "markdown",
   "id": "skHfgkqlqndO",
   "metadata": {
    "id": "skHfgkqlqndO"
   },
   "source": [
    "### Analysis of an E-commerce Dataset\n",
    "\n",
    "We have been provided with a combined e-commerce dataset. In this dataset, each user has the ability to post a rating and review for the products they purchased. Additionally, other users can evaluate the initial rating and review by expressing their trust or distrust.\n",
    "\n",
    "This dataset includes a wealth of information for each user. Details such as their profile, ID, gender, city of birth, product ratings (on a scale of 1-5), reviews, and the prices of the products they purchased are all included. Moreover, for each product rating, we have information about the product name, ID, price, and category, the rating score, the timestamp of the rating and review, and the average helpfulness of the rating given by others (on a scale of 1-5).\n",
    "\n",
    "The dataset is from several data sources, and we have merged all the data into a single CSV file named 'A Combined E-commerce Dataset.csv'. The structure of this dataset is represented in the header shown below.\n",
    "\n",
    "| userId | gender | rating | review| item | category | helpfulness | timestamp | item_id | item_price | user_city|\n",
    "\n",
    "    | ---- | ---- | ---- | ---- | ---- | ---- | ---- | ---- | ---- |  ---- |  ---- |  \n",
    "    \n",
    "#### Description of Fields\n",
    "\n",
    "* __userId__ - the user's id\n",
    "* __gender__ - the user's gender\n",
    "* __rating__ - the user's rating towards the item\n",
    "* __review__ - the user's review towards the item\n",
    "* __item__ - the item's name\n",
    "* __category__ - the category of the item\n",
    "* __helpfulness__ - the average helpfulness of this rating\n",
    "* __timestamp__ - the timestamp when the rating is created\n",
    "* __item_id__ - the item's id\n",
    "* __item_price__ - the item's price\n",
    "* __user_city__ - the city of user's birth\n",
    "\n",
    "Note that, a user may rate multiple items and an item may receive ratings and reviews from multiple users. The \"helpfulness\" is an average value based on all the helpfulness values given by others.\n",
    "\n",
    "There are four questions to explore with the data as shown below.\n",
    "\n",
    "\n",
    "\n",
    "<img src=\"data-relation.png\" align=\"left\" width=\"400\"/>\n",
    "(You can find the data relation diagram on iLearn - Portfolio Part 1 resources - Fig1)\n"
   ]
  },
  {
   "cell_type": "code",
   "execution_count": 142,
   "id": "c70f6495",
   "metadata": {},
   "outputs": [],
   "source": [
    "#input the dataset on Jupyter Notebook\n",
    "import pandas as pd\n",
    "import numpy as np\n",
    "import matplotlib.pyplot as plt\n",
    "%matplotlib inline\n",
    "\n",
    "ds1 = 'Portfolio 1 - Resources/The E-commerce Dataset.csv'"
   ]
  },
  {
   "cell_type": "code",
   "execution_count": 143,
   "id": "e10a9b54",
   "metadata": {},
   "outputs": [],
   "source": [
    "df1 = pd.read_csv(ds1)"
   ]
  },
  {
   "cell_type": "markdown",
   "id": "-tb7B7VTqndQ",
   "metadata": {
    "id": "-tb7B7VTqndQ"
   },
   "source": [
    " #### Q1. Remove missing data\n",
    "\n",
    "Please remove the following records in the csv file:\n",
    "\n",
    " * gender/rating/helpfulness is missing\n",
    " * review is 'none'\n",
    "\n",
    "__Display the DataFrame, counting number of Null values in each column, and print the length of the data__ before and after removing the missing data.  "
   ]
  },
  {
   "cell_type": "code",
   "execution_count": 144,
   "id": "1ecn6H9VqndQ",
   "metadata": {
    "id": "1ecn6H9VqndQ",
    "scrolled": false
   },
   "outputs": [
    {
     "name": "stdout",
     "output_type": "stream",
     "text": [
      "       userId  timestamp                                    review  \\\n",
      "0        4051      12807                 Great job for what it is!   \n",
      "1        4052     122899               Free Access Worth your Time   \n",
      "2          33      12700             AOL..I love you!!!!!!!!!!!!     \n",
      "3          33      21000              EBAY!!!  I LOVE YOU!!!! :-)*   \n",
      "4          33      22300           Blair Witch...Oh Come On.......   \n",
      "...       ...        ...                                       ...   \n",
      "19995   10805      50600                 The Upper Class Fast Food   \n",
      "19996   10806      82201             What more can you ask for????   \n",
      "19997   10806      82201          Excellent steak for a good price   \n",
      "19998   10807      31504                     Different story world   \n",
      "19999   10808      10200  Boldly Displaying Sigourneys Cleavage ..   \n",
      "\n",
      "                                                    item  rating  helpfulness  \\\n",
      "0                                                   eBay     5.0          2.0   \n",
      "1                                                NetZero     5.0          0.0   \n",
      "2                                   AOL (America Online)     5.0          4.0   \n",
      "3                                                   eBay     5.0          4.0   \n",
      "4                                    Blair Witch Project     1.0          4.0   \n",
      "...                                                  ...     ...          ...   \n",
      "19995                                            Wendy's     2.0          3.0   \n",
      "19996                                       Olive Garden     4.0          0.0   \n",
      "19997                                 Outback Steakhouse     4.0          3.0   \n",
      "19998  J. K. Rowling - Harry Potter and the Sorcerer'...     4.0          0.0   \n",
      "19999                                       Galaxy Quest     4.0          0.0   \n",
      "\n",
      "      gender                  category  item_id  item_price  user_city  \n",
      "0          F  Online Stores & Services       88      149.00         39  \n",
      "1          F  Online Stores & Services       46       53.00         39  \n",
      "2          F  Online Stores & Services        0      145.84         31  \n",
      "3          F  Online Stores & Services       88      149.00         31  \n",
      "4          F                    Movies       12       44.00         31  \n",
      "...      ...                       ...      ...         ...        ...  \n",
      "19995      F     Restaurants & Gourmet       84       69.00         18  \n",
      "19996      M     Restaurants & Gourmet       49       32.00         28  \n",
      "19997      M     Restaurants & Gourmet       50       25.00         28  \n",
      "19998      M                     Books       36       96.00         27  \n",
      "19999      M                    Movies       29       67.00         11  \n",
      "\n",
      "[20000 rows x 11 columns]\n"
     ]
    },
    {
     "data": {
      "text/html": [
       "<div>\n",
       "<style scoped>\n",
       "    .dataframe tbody tr th:only-of-type {\n",
       "        vertical-align: middle;\n",
       "    }\n",
       "\n",
       "    .dataframe tbody tr th {\n",
       "        vertical-align: top;\n",
       "    }\n",
       "\n",
       "    .dataframe thead th {\n",
       "        text-align: right;\n",
       "    }\n",
       "</style>\n",
       "<table border=\"1\" class=\"dataframe\">\n",
       "  <thead>\n",
       "    <tr style=\"text-align: right;\">\n",
       "      <th></th>\n",
       "      <th>userId</th>\n",
       "      <th>timestamp</th>\n",
       "      <th>review</th>\n",
       "      <th>item</th>\n",
       "      <th>rating</th>\n",
       "      <th>helpfulness</th>\n",
       "      <th>gender</th>\n",
       "      <th>category</th>\n",
       "      <th>item_id</th>\n",
       "      <th>item_price</th>\n",
       "      <th>user_city</th>\n",
       "    </tr>\n",
       "  </thead>\n",
       "  <tbody>\n",
       "    <tr>\n",
       "      <th>0</th>\n",
       "      <td>4051</td>\n",
       "      <td>12807</td>\n",
       "      <td>Great job for what it is!</td>\n",
       "      <td>eBay</td>\n",
       "      <td>5.0</td>\n",
       "      <td>2.0</td>\n",
       "      <td>F</td>\n",
       "      <td>Online Stores &amp; Services</td>\n",
       "      <td>88</td>\n",
       "      <td>149.00</td>\n",
       "      <td>39</td>\n",
       "    </tr>\n",
       "    <tr>\n",
       "      <th>1</th>\n",
       "      <td>4052</td>\n",
       "      <td>122899</td>\n",
       "      <td>Free Access Worth your Time</td>\n",
       "      <td>NetZero</td>\n",
       "      <td>5.0</td>\n",
       "      <td>0.0</td>\n",
       "      <td>F</td>\n",
       "      <td>Online Stores &amp; Services</td>\n",
       "      <td>46</td>\n",
       "      <td>53.00</td>\n",
       "      <td>39</td>\n",
       "    </tr>\n",
       "    <tr>\n",
       "      <th>2</th>\n",
       "      <td>33</td>\n",
       "      <td>12700</td>\n",
       "      <td>AOL..I love you!!!!!!!!!!!!</td>\n",
       "      <td>AOL (America Online)</td>\n",
       "      <td>5.0</td>\n",
       "      <td>4.0</td>\n",
       "      <td>F</td>\n",
       "      <td>Online Stores &amp; Services</td>\n",
       "      <td>0</td>\n",
       "      <td>145.84</td>\n",
       "      <td>31</td>\n",
       "    </tr>\n",
       "    <tr>\n",
       "      <th>3</th>\n",
       "      <td>33</td>\n",
       "      <td>21000</td>\n",
       "      <td>EBAY!!!  I LOVE YOU!!!! :-)*</td>\n",
       "      <td>eBay</td>\n",
       "      <td>5.0</td>\n",
       "      <td>4.0</td>\n",
       "      <td>F</td>\n",
       "      <td>Online Stores &amp; Services</td>\n",
       "      <td>88</td>\n",
       "      <td>149.00</td>\n",
       "      <td>31</td>\n",
       "    </tr>\n",
       "    <tr>\n",
       "      <th>4</th>\n",
       "      <td>33</td>\n",
       "      <td>22300</td>\n",
       "      <td>Blair Witch...Oh Come On.......</td>\n",
       "      <td>Blair Witch Project</td>\n",
       "      <td>1.0</td>\n",
       "      <td>4.0</td>\n",
       "      <td>F</td>\n",
       "      <td>Movies</td>\n",
       "      <td>12</td>\n",
       "      <td>44.00</td>\n",
       "      <td>31</td>\n",
       "    </tr>\n",
       "  </tbody>\n",
       "</table>\n",
       "</div>"
      ],
      "text/plain": [
       "   userId  timestamp                           review                  item  \\\n",
       "0    4051      12807        Great job for what it is!                  eBay   \n",
       "1    4052     122899      Free Access Worth your Time               NetZero   \n",
       "2      33      12700    AOL..I love you!!!!!!!!!!!!    AOL (America Online)   \n",
       "3      33      21000     EBAY!!!  I LOVE YOU!!!! :-)*                  eBay   \n",
       "4      33      22300  Blair Witch...Oh Come On.......   Blair Witch Project   \n",
       "\n",
       "   rating  helpfulness gender                  category  item_id  item_price  \\\n",
       "0     5.0          2.0      F  Online Stores & Services       88      149.00   \n",
       "1     5.0          0.0      F  Online Stores & Services       46       53.00   \n",
       "2     5.0          4.0      F  Online Stores & Services        0      145.84   \n",
       "3     5.0          4.0      F  Online Stores & Services       88      149.00   \n",
       "4     1.0          4.0      F                    Movies       12       44.00   \n",
       "\n",
       "   user_city  \n",
       "0         39  \n",
       "1         39  \n",
       "2         31  \n",
       "3         31  \n",
       "4         31  "
      ]
     },
     "execution_count": 144,
     "metadata": {},
     "output_type": "execute_result"
    }
   ],
   "source": [
    "# displaying table\n",
    "print(df1)\n",
    "df1.head()"
   ]
  },
  {
   "cell_type": "code",
   "execution_count": 145,
   "id": "3a1a682c",
   "metadata": {},
   "outputs": [
    {
     "data": {
      "text/plain": [
       "userId          0\n",
       "timestamp       0\n",
       "review          0\n",
       "item            0\n",
       "rating         17\n",
       "helpfulness    22\n",
       "gender         27\n",
       "category        0\n",
       "item_id         0\n",
       "item_price      0\n",
       "user_city       0\n",
       "dtype: int64"
      ]
     },
     "execution_count": 145,
     "metadata": {},
     "output_type": "execute_result"
    }
   ],
   "source": [
    "df1.isnull().sum().sum()\n",
    "df1.isnull().sum()"
   ]
  },
  {
   "cell_type": "code",
   "execution_count": 1,
   "id": "3f49ece2",
   "metadata": {},
   "outputs": [
    {
     "ename": "NameError",
     "evalue": "name 'df1' is not defined",
     "output_type": "error",
     "traceback": [
      "\u001b[0;31m---------------------------------------------------------------------------\u001b[0m",
      "\u001b[0;31mNameError\u001b[0m                                 Traceback (most recent call last)",
      "Cell \u001b[0;32mIn[1], line 1\u001b[0m\n\u001b[0;32m----> 1\u001b[0m df1_filtered \u001b[38;5;241m=\u001b[39m df1\u001b[38;5;241m.\u001b[39mdropna()\n\u001b[1;32m      2\u001b[0m \u001b[38;5;28mprint\u001b[39m(df1_filtered)\n\u001b[1;32m      3\u001b[0m df1_filtered\u001b[38;5;241m.\u001b[39minfo()\n",
      "\u001b[0;31mNameError\u001b[0m: name 'df1' is not defined"
     ]
    }
   ],
   "source": [
    "df1_filtered = df1.dropna()\n",
    "print(df1_filtered)"
   ]
  },
  {
   "cell_type": "code",
   "execution_count": 148,
   "id": "378f76cf",
   "metadata": {
    "scrolled": true
   },
   "outputs": [
    {
     "name": "stdout",
     "output_type": "stream",
     "text": [
      "The length of the data after remove missing records of gender, rating and helpfulness and missing data of review : (19916, 11)\n"
     ]
    }
   ],
   "source": [
    "df1_filtered_review = df1_filtered[df1_filtered[\"review\"].str.lower() != \"none\"]\n",
    "print(\"The length of the data after remove missing records of gender, rating and helpfulness and missing data of review :\" , str(df1_filtered_review.shape))"
   ]
  },
  {
   "cell_type": "markdown",
   "id": "EJG9_LEmqndR",
   "metadata": {
    "id": "EJG9_LEmqndR"
   },
   "source": [
    "#### Q2. Descriptive statistics\n",
    "\n",
    "With the cleaned data in Q1, please provide the data summarization as below:\n",
    "\n",
    "* Q2.1 total number of unique users, unique reviews, unique items, and unique categories\n",
    "* Q2.2 descriptive statistics, e.g., the total number, mean, std, min and max regarding all rating records\n",
    "* Q2.3 descriptive statistics, e.g., mean, std, max, and min of the number of items rated by different genders\n",
    "* Q2.4 descriptive statistics, e.g., mean, std, max, min of the number of ratings that received by each items\n"
   ]
  },
  {
   "cell_type": "code",
   "execution_count": 126,
   "id": "-fiucmwsqndR",
   "metadata": {
    "id": "-fiucmwsqndR"
   },
   "outputs": [
    {
     "name": "stdout",
     "output_type": "stream",
     "text": [
      "total unique users : 8562\n",
      "total unique reviews : 19459\n",
      "total unique items : 89\n",
      "total unique categories : 9\n"
     ]
    }
   ],
   "source": [
    "# your code and solutions\n",
    "# Q2.1 total number of unique users, unique reviews, unique items, and unique categories\n",
    "\n",
    "x = (df1_filtered_review[\"userId\"].nunique())\n",
    "print(\"total unique users : \" + str(x))\n",
    "\n",
    "x = (df1_filtered_review[\"review\"].nunique())\n",
    "print(\"total unique reviews : \" + str(x))\n",
    "\n",
    "x = (df1_filtered_review[\"item\"].nunique())\n",
    "print(\"total unique items : \" + str(x))\n",
    "\n",
    "x = (df1_filtered_review[\"category\"].nunique())\n",
    "print(\"total unique categories : \" + str(x))"
   ]
  },
  {
   "cell_type": "code",
   "execution_count": 127,
   "id": "10960840",
   "metadata": {},
   "outputs": [
    {
     "data": {
      "text/plain": [
       "count    19916.000000\n",
       "mean         3.701798\n",
       "std          1.404451\n",
       "min          1.000000\n",
       "25%          3.000000\n",
       "50%          4.000000\n",
       "75%          5.000000\n",
       "max          5.000000\n",
       "Name: rating, dtype: float64"
      ]
     },
     "execution_count": 127,
     "metadata": {},
     "output_type": "execute_result"
    }
   ],
   "source": [
    "# Q2.2 descriptive statistics, e.g., the total number, mean, std, min and max regarding all rating records\n",
    "df1_filtered_review.rating.describe()"
   ]
  },
  {
   "cell_type": "code",
   "execution_count": 128,
   "id": "9a420733",
   "metadata": {},
   "outputs": [
    {
     "data": {
      "text/html": [
       "<div>\n",
       "<style scoped>\n",
       "    .dataframe tbody tr th:only-of-type {\n",
       "        vertical-align: middle;\n",
       "    }\n",
       "\n",
       "    .dataframe tbody tr th {\n",
       "        vertical-align: top;\n",
       "    }\n",
       "\n",
       "    .dataframe thead tr th {\n",
       "        text-align: left;\n",
       "    }\n",
       "\n",
       "    .dataframe thead tr:last-of-type th {\n",
       "        text-align: right;\n",
       "    }\n",
       "</style>\n",
       "<table border=\"1\" class=\"dataframe\">\n",
       "  <thead>\n",
       "    <tr>\n",
       "      <th></th>\n",
       "      <th colspan=\"8\" halign=\"left\">userId</th>\n",
       "      <th colspan=\"2\" halign=\"left\">timestamp</th>\n",
       "      <th>...</th>\n",
       "      <th colspan=\"2\" halign=\"left\">item_price</th>\n",
       "      <th colspan=\"8\" halign=\"left\">user_city</th>\n",
       "    </tr>\n",
       "    <tr>\n",
       "      <th></th>\n",
       "      <th>count</th>\n",
       "      <th>mean</th>\n",
       "      <th>std</th>\n",
       "      <th>min</th>\n",
       "      <th>25%</th>\n",
       "      <th>50%</th>\n",
       "      <th>75%</th>\n",
       "      <th>max</th>\n",
       "      <th>count</th>\n",
       "      <th>mean</th>\n",
       "      <th>...</th>\n",
       "      <th>75%</th>\n",
       "      <th>max</th>\n",
       "      <th>count</th>\n",
       "      <th>mean</th>\n",
       "      <th>std</th>\n",
       "      <th>min</th>\n",
       "      <th>25%</th>\n",
       "      <th>50%</th>\n",
       "      <th>75%</th>\n",
       "      <th>max</th>\n",
       "    </tr>\n",
       "    <tr>\n",
       "      <th>gender</th>\n",
       "      <th></th>\n",
       "      <th></th>\n",
       "      <th></th>\n",
       "      <th></th>\n",
       "      <th></th>\n",
       "      <th></th>\n",
       "      <th></th>\n",
       "      <th></th>\n",
       "      <th></th>\n",
       "      <th></th>\n",
       "      <th></th>\n",
       "      <th></th>\n",
       "      <th></th>\n",
       "      <th></th>\n",
       "      <th></th>\n",
       "      <th></th>\n",
       "      <th></th>\n",
       "      <th></th>\n",
       "      <th></th>\n",
       "      <th></th>\n",
       "      <th></th>\n",
       "    </tr>\n",
       "  </thead>\n",
       "  <tbody>\n",
       "    <tr>\n",
       "      <th>F</th>\n",
       "      <td>9793.0</td>\n",
       "      <td>5533.094149</td>\n",
       "      <td>3324.559586</td>\n",
       "      <td>0.0</td>\n",
       "      <td>2048.0</td>\n",
       "      <td>5909.0</td>\n",
       "      <td>8363.0</td>\n",
       "      <td>10805.0</td>\n",
       "      <td>9793.0</td>\n",
       "      <td>59167.472378</td>\n",
       "      <td>...</td>\n",
       "      <td>126.5</td>\n",
       "      <td>149.0</td>\n",
       "      <td>9793.0</td>\n",
       "      <td>19.361789</td>\n",
       "      <td>11.719459</td>\n",
       "      <td>0.0</td>\n",
       "      <td>9.0</td>\n",
       "      <td>19.0</td>\n",
       "      <td>30.0</td>\n",
       "      <td>39.0</td>\n",
       "    </tr>\n",
       "    <tr>\n",
       "      <th>M</th>\n",
       "      <td>10123.0</td>\n",
       "      <td>5465.210313</td>\n",
       "      <td>3363.293294</td>\n",
       "      <td>2.0</td>\n",
       "      <td>1934.0</td>\n",
       "      <td>5880.0</td>\n",
       "      <td>8423.0</td>\n",
       "      <td>10808.0</td>\n",
       "      <td>10123.0</td>\n",
       "      <td>58824.663835</td>\n",
       "      <td>...</td>\n",
       "      <td>126.5</td>\n",
       "      <td>149.0</td>\n",
       "      <td>10123.0</td>\n",
       "      <td>19.442952</td>\n",
       "      <td>11.537247</td>\n",
       "      <td>0.0</td>\n",
       "      <td>9.0</td>\n",
       "      <td>19.0</td>\n",
       "      <td>29.0</td>\n",
       "      <td>39.0</td>\n",
       "    </tr>\n",
       "  </tbody>\n",
       "</table>\n",
       "<p>2 rows × 56 columns</p>\n",
       "</div>"
      ],
      "text/plain": [
       "         userId                                                         \\\n",
       "          count         mean          std  min     25%     50%     75%   \n",
       "gender                                                                   \n",
       "F        9793.0  5533.094149  3324.559586  0.0  2048.0  5909.0  8363.0   \n",
       "M       10123.0  5465.210313  3363.293294  2.0  1934.0  5880.0  8423.0   \n",
       "\n",
       "                timestamp                ... item_price        user_city  \\\n",
       "            max     count          mean  ...        75%    max     count   \n",
       "gender                                   ...                               \n",
       "F       10805.0    9793.0  59167.472378  ...      126.5  149.0    9793.0   \n",
       "M       10808.0   10123.0  58824.663835  ...      126.5  149.0   10123.0   \n",
       "\n",
       "                                                          \n",
       "             mean        std  min  25%   50%   75%   max  \n",
       "gender                                                    \n",
       "F       19.361789  11.719459  0.0  9.0  19.0  30.0  39.0  \n",
       "M       19.442952  11.537247  0.0  9.0  19.0  29.0  39.0  \n",
       "\n",
       "[2 rows x 56 columns]"
      ]
     },
     "execution_count": 128,
     "metadata": {},
     "output_type": "execute_result"
    }
   ],
   "source": [
    "#  Q2.3 descriptive statistics, e.g., mean, std, max, and min of the number of items rated by different genders\n",
    "df1_filtered_review.groupby(['gender']).describe()"
   ]
  },
  {
   "cell_type": "code",
   "execution_count": 129,
   "id": "574cae57",
   "metadata": {},
   "outputs": [
    {
     "data": {
      "text/html": [
       "<div>\n",
       "<style scoped>\n",
       "    .dataframe tbody tr th:only-of-type {\n",
       "        vertical-align: middle;\n",
       "    }\n",
       "\n",
       "    .dataframe tbody tr th {\n",
       "        vertical-align: top;\n",
       "    }\n",
       "\n",
       "    .dataframe thead th {\n",
       "        text-align: right;\n",
       "    }\n",
       "</style>\n",
       "<table border=\"1\" class=\"dataframe\">\n",
       "  <thead>\n",
       "    <tr style=\"text-align: right;\">\n",
       "      <th></th>\n",
       "      <th>count</th>\n",
       "      <th>mean</th>\n",
       "      <th>std</th>\n",
       "      <th>min</th>\n",
       "      <th>25%</th>\n",
       "      <th>50%</th>\n",
       "      <th>75%</th>\n",
       "      <th>max</th>\n",
       "    </tr>\n",
       "    <tr>\n",
       "      <th>item</th>\n",
       "      <th></th>\n",
       "      <th></th>\n",
       "      <th></th>\n",
       "      <th></th>\n",
       "      <th></th>\n",
       "      <th></th>\n",
       "      <th></th>\n",
       "      <th></th>\n",
       "    </tr>\n",
       "  </thead>\n",
       "  <tbody>\n",
       "    <tr>\n",
       "      <th>AOL (America Online)</th>\n",
       "      <td>939.0</td>\n",
       "      <td>2.500532</td>\n",
       "      <td>1.368528</td>\n",
       "      <td>1.0</td>\n",
       "      <td>1.0</td>\n",
       "      <td>2.0</td>\n",
       "      <td>4.0</td>\n",
       "      <td>5.0</td>\n",
       "    </tr>\n",
       "    <tr>\n",
       "      <th>All Advantage</th>\n",
       "      <td>657.0</td>\n",
       "      <td>3.412481</td>\n",
       "      <td>1.541706</td>\n",
       "      <td>1.0</td>\n",
       "      <td>2.0</td>\n",
       "      <td>4.0</td>\n",
       "      <td>5.0</td>\n",
       "      <td>5.0</td>\n",
       "    </tr>\n",
       "    <tr>\n",
       "      <th>eBay</th>\n",
       "      <td>596.0</td>\n",
       "      <td>4.333893</td>\n",
       "      <td>0.949618</td>\n",
       "      <td>1.0</td>\n",
       "      <td>4.0</td>\n",
       "      <td>5.0</td>\n",
       "      <td>5.0</td>\n",
       "      <td>5.0</td>\n",
       "    </tr>\n",
       "    <tr>\n",
       "      <th>McDonald's</th>\n",
       "      <td>415.0</td>\n",
       "      <td>2.698795</td>\n",
       "      <td>1.256240</td>\n",
       "      <td>1.0</td>\n",
       "      <td>2.0</td>\n",
       "      <td>3.0</td>\n",
       "      <td>4.0</td>\n",
       "      <td>5.0</td>\n",
       "    </tr>\n",
       "    <tr>\n",
       "      <th>NetZero</th>\n",
       "      <td>350.0</td>\n",
       "      <td>3.074286</td>\n",
       "      <td>1.360588</td>\n",
       "      <td>1.0</td>\n",
       "      <td>2.0</td>\n",
       "      <td>3.0</td>\n",
       "      <td>4.0</td>\n",
       "      <td>5.0</td>\n",
       "    </tr>\n",
       "    <tr>\n",
       "      <th>...</th>\n",
       "      <td>...</td>\n",
       "      <td>...</td>\n",
       "      <td>...</td>\n",
       "      <td>...</td>\n",
       "      <td>...</td>\n",
       "      <td>...</td>\n",
       "      <td>...</td>\n",
       "      <td>...</td>\n",
       "    </tr>\n",
       "    <tr>\n",
       "      <th>The Legend Of Zelda Ocarina Of Time for Nintendo 64</th>\n",
       "      <td>143.0</td>\n",
       "      <td>4.706294</td>\n",
       "      <td>0.729964</td>\n",
       "      <td>1.0</td>\n",
       "      <td>5.0</td>\n",
       "      <td>5.0</td>\n",
       "      <td>5.0</td>\n",
       "      <td>5.0</td>\n",
       "    </tr>\n",
       "    <tr>\n",
       "      <th>How the Grinch Stole Christmas</th>\n",
       "      <td>143.0</td>\n",
       "      <td>3.874126</td>\n",
       "      <td>1.260824</td>\n",
       "      <td>1.0</td>\n",
       "      <td>3.0</td>\n",
       "      <td>4.0</td>\n",
       "      <td>5.0</td>\n",
       "      <td>5.0</td>\n",
       "    </tr>\n",
       "    <tr>\n",
       "      <th>Applebee's</th>\n",
       "      <td>141.0</td>\n",
       "      <td>3.822695</td>\n",
       "      <td>1.272139</td>\n",
       "      <td>1.0</td>\n",
       "      <td>3.0</td>\n",
       "      <td>4.0</td>\n",
       "      <td>5.0</td>\n",
       "      <td>5.0</td>\n",
       "    </tr>\n",
       "    <tr>\n",
       "      <th>Northwest Airlines</th>\n",
       "      <td>141.0</td>\n",
       "      <td>2.702128</td>\n",
       "      <td>1.472339</td>\n",
       "      <td>1.0</td>\n",
       "      <td>1.0</td>\n",
       "      <td>2.0</td>\n",
       "      <td>4.0</td>\n",
       "      <td>5.0</td>\n",
       "    </tr>\n",
       "    <tr>\n",
       "      <th>FOX</th>\n",
       "      <td>139.0</td>\n",
       "      <td>3.539568</td>\n",
       "      <td>1.400136</td>\n",
       "      <td>1.0</td>\n",
       "      <td>2.0</td>\n",
       "      <td>4.0</td>\n",
       "      <td>5.0</td>\n",
       "      <td>5.0</td>\n",
       "    </tr>\n",
       "  </tbody>\n",
       "</table>\n",
       "<p>89 rows × 8 columns</p>\n",
       "</div>"
      ],
      "text/plain": [
       "                                                    count      mean       std  \\\n",
       "item                                                                            \n",
       "AOL (America Online)                                939.0  2.500532  1.368528   \n",
       "All Advantage                                       657.0  3.412481  1.541706   \n",
       "eBay                                                596.0  4.333893  0.949618   \n",
       "McDonald's                                          415.0  2.698795  1.256240   \n",
       "NetZero                                             350.0  3.074286  1.360588   \n",
       "...                                                   ...       ...       ...   \n",
       "The Legend Of Zelda Ocarina Of Time for Nintend...  143.0  4.706294  0.729964   \n",
       "How the Grinch Stole Christmas                      143.0  3.874126  1.260824   \n",
       "Applebee's                                          141.0  3.822695  1.272139   \n",
       "Northwest Airlines                                  141.0  2.702128  1.472339   \n",
       "FOX                                                 139.0  3.539568  1.400136   \n",
       "\n",
       "                                                    min  25%  50%  75%  max  \n",
       "item                                                                         \n",
       "AOL (America Online)                                1.0  1.0  2.0  4.0  5.0  \n",
       "All Advantage                                       1.0  2.0  4.0  5.0  5.0  \n",
       "eBay                                                1.0  4.0  5.0  5.0  5.0  \n",
       "McDonald's                                          1.0  2.0  3.0  4.0  5.0  \n",
       "NetZero                                             1.0  2.0  3.0  4.0  5.0  \n",
       "...                                                 ...  ...  ...  ...  ...  \n",
       "The Legend Of Zelda Ocarina Of Time for Nintend...  1.0  5.0  5.0  5.0  5.0  \n",
       "How the Grinch Stole Christmas                      1.0  3.0  4.0  5.0  5.0  \n",
       "Applebee's                                          1.0  3.0  4.0  5.0  5.0  \n",
       "Northwest Airlines                                  1.0  1.0  2.0  4.0  5.0  \n",
       "FOX                                                 1.0  2.0  4.0  5.0  5.0  \n",
       "\n",
       "[89 rows x 8 columns]"
      ]
     },
     "execution_count": 129,
     "metadata": {},
     "output_type": "execute_result"
    }
   ],
   "source": [
    "# Q2.4 descriptive statistics, e.g., mean, std, max, min of the number of ratings that received by each items\n",
    "rating_item = df1_filtered_review.groupby(\"item\").describe()[\"rating\"]\n",
    "rating_item.sort_values(by = \"count\", ascending = False)"
   ]
  },
  {
   "cell_type": "markdown",
   "id": "PISggxe5qndR",
   "metadata": {
    "id": "PISggxe5qndR"
   },
   "source": [
    "#### Q3. Plotting and Analysis\n",
    "\n",
    "Please try to explore the correlation between gender/helpfulness/category and ratings; for instance, do female/male users tend to provide higher ratings than male/female users? Hint: you may use the boxplot function to plot figures for comparison (___Challenge___)\n",
    "    \n",
    "You may need to select the most suitable graphic forms for ease of presentation. Most importantly, for each figure or subfigure, please summarise ___what each plot shows___ (i.e. observations and explanations). Finally, you may need to provide an overall summary of the data."
   ]
  },
  {
   "cell_type": "code",
   "execution_count": 130,
   "id": "Zyuvw_WlqndR",
   "metadata": {
    "id": "Zyuvw_WlqndR",
    "scrolled": true
   },
   "outputs": [
    {
     "name": "stdout",
     "output_type": "stream",
     "text": [
      "Requirement already satisfied: seaborn in /Users/evelinesetiawan/anaconda3/lib/python3.11/site-packages (0.12.2)\n",
      "Requirement already satisfied: numpy!=1.24.0,>=1.17 in /Users/evelinesetiawan/anaconda3/lib/python3.11/site-packages (from seaborn) (1.24.3)\n",
      "Requirement already satisfied: pandas>=0.25 in /Users/evelinesetiawan/anaconda3/lib/python3.11/site-packages (from seaborn) (2.0.3)\n",
      "Requirement already satisfied: matplotlib!=3.6.1,>=3.1 in /Users/evelinesetiawan/anaconda3/lib/python3.11/site-packages (from seaborn) (3.7.2)\n",
      "Requirement already satisfied: contourpy>=1.0.1 in /Users/evelinesetiawan/anaconda3/lib/python3.11/site-packages (from matplotlib!=3.6.1,>=3.1->seaborn) (1.0.5)\n",
      "Requirement already satisfied: cycler>=0.10 in /Users/evelinesetiawan/anaconda3/lib/python3.11/site-packages (from matplotlib!=3.6.1,>=3.1->seaborn) (0.11.0)\n",
      "Requirement already satisfied: fonttools>=4.22.0 in /Users/evelinesetiawan/anaconda3/lib/python3.11/site-packages (from matplotlib!=3.6.1,>=3.1->seaborn) (4.25.0)\n",
      "Requirement already satisfied: kiwisolver>=1.0.1 in /Users/evelinesetiawan/anaconda3/lib/python3.11/site-packages (from matplotlib!=3.6.1,>=3.1->seaborn) (1.4.4)\n",
      "Requirement already satisfied: packaging>=20.0 in /Users/evelinesetiawan/anaconda3/lib/python3.11/site-packages (from matplotlib!=3.6.1,>=3.1->seaborn) (23.1)\n",
      "Requirement already satisfied: pillow>=6.2.0 in /Users/evelinesetiawan/anaconda3/lib/python3.11/site-packages (from matplotlib!=3.6.1,>=3.1->seaborn) (10.2.0)\n",
      "Requirement already satisfied: pyparsing<3.1,>=2.3.1 in /Users/evelinesetiawan/anaconda3/lib/python3.11/site-packages (from matplotlib!=3.6.1,>=3.1->seaborn) (3.0.9)\n",
      "Requirement already satisfied: python-dateutil>=2.7 in /Users/evelinesetiawan/anaconda3/lib/python3.11/site-packages (from matplotlib!=3.6.1,>=3.1->seaborn) (2.8.2)\n",
      "Requirement already satisfied: pytz>=2020.1 in /Users/evelinesetiawan/anaconda3/lib/python3.11/site-packages (from pandas>=0.25->seaborn) (2023.3.post1)\n",
      "Requirement already satisfied: tzdata>=2022.1 in /Users/evelinesetiawan/anaconda3/lib/python3.11/site-packages (from pandas>=0.25->seaborn) (2023.3)\n",
      "Requirement already satisfied: six>=1.5 in /Users/evelinesetiawan/anaconda3/lib/python3.11/site-packages (from python-dateutil>=2.7->matplotlib!=3.6.1,>=3.1->seaborn) (1.16.0)\n"
     ]
    }
   ],
   "source": [
    "!pip install seaborn"
   ]
  },
  {
   "cell_type": "code",
   "execution_count": 131,
   "id": "cd9516bf",
   "metadata": {},
   "outputs": [],
   "source": [
    "import seaborn as sns"
   ]
  },
  {
   "cell_type": "markdown",
   "id": "facf9dfe",
   "metadata": {},
   "source": [
    "## Correlation between gender and rating\n",
    "As shown in the graph below, both females and males are on the same proportion regarding to ratings gave for item purchased. These value ???"
   ]
  },
  {
   "cell_type": "code",
   "execution_count": 132,
   "id": "6818c31c",
   "metadata": {
    "scrolled": false
   },
   "outputs": [
    {
     "data": {
      "text/plain": [
       "<Axes: xlabel='gender', ylabel='rating'>"
      ]
     },
     "execution_count": 132,
     "metadata": {},
     "output_type": "execute_result"
    },
    {
     "data": {
      "image/png": "[encoded data removed]",
      "text/plain": [
       "<Figure size 640x480 with 1 Axes>"
      ]
     },
     "metadata": {},
     "output_type": "display_data"
    }
   ],
   "source": [
    "sns.boxplot(x = \"gender\", y = \"rating\", data = df1_filtered_review)"
   ]
  },
  {
   "cell_type": "markdown",
   "id": "c8c60041",
   "metadata": {},
   "source": [
    "## Correlation between helpfulness and rating\n",
    "The boxplot shown the helpfulness of the rating. From the scale 0.0 to 4.0, we can conclude that half of them were helped of the rating. ????\n"
   ]
  },
  {
   "cell_type": "code",
   "execution_count": 133,
   "id": "06844b27",
   "metadata": {},
   "outputs": [
    {
     "data": {
      "text/plain": [
       "<Axes: xlabel='helpfulness', ylabel='rating'>"
      ]
     },
     "execution_count": 133,
     "metadata": {},
     "output_type": "execute_result"
    },
    {
     "data": {
      "image/png": "[encoded data removed]",
      "text/plain": [
       "<Figure size 640x480 with 1 Axes>"
      ]
     },
     "metadata": {},
     "output_type": "display_data"
    }
   ],
   "source": [
    "sns.boxplot(x = \"helpfulness\", y = \"rating\", data = df1_filtered_review)"
   ]
  },
  {
   "cell_type": "markdown",
   "id": "9fadc9b9",
   "metadata": {},
   "source": [
    "## Correlation between rating and category\n"
   ]
  },
  {
   "cell_type": "code",
   "execution_count": 134,
   "id": "b73b48cb",
   "metadata": {},
   "outputs": [
    {
     "data": {
      "image/png": "[encoded data removed]",
      "text/plain": [
       "<Figure size 640x480 with 1 Axes>"
      ]
     },
     "metadata": {},
     "output_type": "display_data"
    }
   ],
   "source": [
    "df1_filtered_review = sns.boxplot(x = \"rating\", y = \"category\", data = df1_filtered_review)"
   ]
  },
  {
   "cell_type": "markdown",
   "id": "06004539",
   "metadata": {},
   "source": [
    "### Summary    \n",
    "\n",
    "The dataset contain 20.000 data which in each row contain unique information from userId to user_city. After removing missing data and rows that do not have reviews, number of data decreased to 19.916 datas. Based on that numbers, i found 8.562 unique users, 19.459 unique reviews, 89 unique items and 9 unique categories. Further, i calculcate desriptive analytics of rating records and found that the average ratings around 3,7. As per gender calculation, it was shown that man tend to give more reviews than women.\n",
    "\n",
    "Those 3 graphs above display the correlation between gender, helpfulness and category versus rating.\n",
    "1. In terms of rating that was given by each gender, didn't show much differences. So, both females and males generally provides the same rating for the goods.\n",
    "2. As for helpfullness and rating, most users were helped with the rating given to the products. Small part of users find ratings were not impacted to them.\n",
    "3. Over 9 categories in data set, 7 of them has a wide range of rating. However the other two categories namely games and books has some outliers, where it didn't give clear visualization.\n",
    "\n",
    "Overall the observations of rating and other variables did not give the users much significant impact, since the results shown in the boxplot were constant and quite similar between variables."
   ]
  },
  {
   "cell_type": "markdown",
   "id": "TxD3SLxRqndR",
   "metadata": {
    "id": "TxD3SLxRqndR"
   },
   "source": [
    "#### Q4. Detect and remove outliers\n",
    "\n",
    "We may define outlier users, reviews and items with three rules (if a record meets one of the rules, it is regarded as an outlier):\n",
    "\n",
    "1. reviews of which the helpfulness is no more than 2\n",
    "2. users who rate less than 7 items\n",
    "3. items that receives less than 11 ratings\n",
    "\n",
    "Please remove the corresponding records in the csv file that involves outlier users, reviews and items. You need to follow the order of rules to perform data cleaning operations. After that, __print the length of the data__."
   ]
  },
  {
   "cell_type": "code",
   "execution_count": 149,
   "id": "b55807ec",
   "metadata": {},
   "outputs": [
    {
     "data": {
      "text/html": [
       "<div>\n",
       "<style scoped>\n",
       "    .dataframe tbody tr th:only-of-type {\n",
       "        vertical-align: middle;\n",
       "    }\n",
       "\n",
       "    .dataframe tbody tr th {\n",
       "        vertical-align: top;\n",
       "    }\n",
       "\n",
       "    .dataframe thead th {\n",
       "        text-align: right;\n",
       "    }\n",
       "</style>\n",
       "<table border=\"1\" class=\"dataframe\">\n",
       "  <thead>\n",
       "    <tr style=\"text-align: right;\">\n",
       "      <th></th>\n",
       "      <th>userId</th>\n",
       "      <th>timestamp</th>\n",
       "      <th>review</th>\n",
       "      <th>item</th>\n",
       "      <th>rating</th>\n",
       "      <th>helpfulness</th>\n",
       "      <th>gender</th>\n",
       "      <th>category</th>\n",
       "      <th>item_id</th>\n",
       "      <th>item_price</th>\n",
       "      <th>user_city</th>\n",
       "    </tr>\n",
       "  </thead>\n",
       "  <tbody>\n",
       "    <tr>\n",
       "      <th>0</th>\n",
       "      <td>4051</td>\n",
       "      <td>12807</td>\n",
       "      <td>Great job for what it is!</td>\n",
       "      <td>eBay</td>\n",
       "      <td>5.0</td>\n",
       "      <td>2.0</td>\n",
       "      <td>F</td>\n",
       "      <td>Online Stores &amp; Services</td>\n",
       "      <td>88</td>\n",
       "      <td>149.00</td>\n",
       "      <td>39</td>\n",
       "    </tr>\n",
       "    <tr>\n",
       "      <th>1</th>\n",
       "      <td>4052</td>\n",
       "      <td>122899</td>\n",
       "      <td>Free Access Worth your Time</td>\n",
       "      <td>NetZero</td>\n",
       "      <td>5.0</td>\n",
       "      <td>0.0</td>\n",
       "      <td>F</td>\n",
       "      <td>Online Stores &amp; Services</td>\n",
       "      <td>46</td>\n",
       "      <td>53.00</td>\n",
       "      <td>39</td>\n",
       "    </tr>\n",
       "    <tr>\n",
       "      <th>2</th>\n",
       "      <td>33</td>\n",
       "      <td>12700</td>\n",
       "      <td>AOL..I love you!!!!!!!!!!!!</td>\n",
       "      <td>AOL (America Online)</td>\n",
       "      <td>5.0</td>\n",
       "      <td>4.0</td>\n",
       "      <td>F</td>\n",
       "      <td>Online Stores &amp; Services</td>\n",
       "      <td>0</td>\n",
       "      <td>145.84</td>\n",
       "      <td>31</td>\n",
       "    </tr>\n",
       "    <tr>\n",
       "      <th>3</th>\n",
       "      <td>33</td>\n",
       "      <td>21000</td>\n",
       "      <td>EBAY!!!  I LOVE YOU!!!! :-)*</td>\n",
       "      <td>eBay</td>\n",
       "      <td>5.0</td>\n",
       "      <td>4.0</td>\n",
       "      <td>F</td>\n",
       "      <td>Online Stores &amp; Services</td>\n",
       "      <td>88</td>\n",
       "      <td>149.00</td>\n",
       "      <td>31</td>\n",
       "    </tr>\n",
       "    <tr>\n",
       "      <th>4</th>\n",
       "      <td>33</td>\n",
       "      <td>22300</td>\n",
       "      <td>Blair Witch...Oh Come On.......</td>\n",
       "      <td>Blair Witch Project</td>\n",
       "      <td>1.0</td>\n",
       "      <td>4.0</td>\n",
       "      <td>F</td>\n",
       "      <td>Movies</td>\n",
       "      <td>12</td>\n",
       "      <td>44.00</td>\n",
       "      <td>31</td>\n",
       "    </tr>\n",
       "  </tbody>\n",
       "</table>\n",
       "</div>"
      ],
      "text/plain": [
       "   userId  timestamp                           review                  item  \\\n",
       "0    4051      12807        Great job for what it is!                  eBay   \n",
       "1    4052     122899      Free Access Worth your Time               NetZero   \n",
       "2      33      12700    AOL..I love you!!!!!!!!!!!!    AOL (America Online)   \n",
       "3      33      21000     EBAY!!!  I LOVE YOU!!!! :-)*                  eBay   \n",
       "4      33      22300  Blair Witch...Oh Come On.......   Blair Witch Project   \n",
       "\n",
       "   rating  helpfulness gender                  category  item_id  item_price  \\\n",
       "0     5.0          2.0      F  Online Stores & Services       88      149.00   \n",
       "1     5.0          0.0      F  Online Stores & Services       46       53.00   \n",
       "2     5.0          4.0      F  Online Stores & Services        0      145.84   \n",
       "3     5.0          4.0      F  Online Stores & Services       88      149.00   \n",
       "4     1.0          4.0      F                    Movies       12       44.00   \n",
       "\n",
       "   user_city  \n",
       "0         39  \n",
       "1         39  \n",
       "2         31  \n",
       "3         31  \n",
       "4         31  "
      ]
     },
     "execution_count": 149,
     "metadata": {},
     "output_type": "execute_result"
    }
   ],
   "source": [
    "df1_filtered_review.head()"
   ]
  },
  {
   "cell_type": "code",
   "execution_count": 150,
   "id": "2602b964",
   "metadata": {},
   "outputs": [
    {
     "name": "stdout",
     "output_type": "stream",
     "text": [
      "number of helpfulness is no more than 2 : 13643\n"
     ]
    }
   ],
   "source": [
    "# 1. reviews of which the helpfulness is no more than 2\n",
    "df1_helpfulness = df1_filtered_review.drop(df1_filtered_review.index[(df1_filtered_review[\"helpfulness\"]<=2)])\n",
    "print(\"number of helpfulness is no more than 2 : \" + str(len(df1_helpfulness)))"
   ]
  },
  {
   "cell_type": "code",
   "execution_count": 151,
   "id": "e7848382",
   "metadata": {},
   "outputs": [
    {
     "name": "stdout",
     "output_type": "stream",
     "text": [
      "6535\n",
      "267\n",
      "number of users who rate less than 7 : 2741\n"
     ]
    }
   ],
   "source": [
    "# 2. users who rate less than 7 items\n",
    "# remove outliers by group userId and items\n",
    "df1_user = df1_helpfulness.groupby(\"userId\").count()[\"item\"].reset_index(name = \"count\")\n",
    "print(len(df1_user))\n",
    "\n",
    "df1_user.head()\n",
    "\n",
    "#finding users who rate less than 7 items\n",
    "userId_less_7 = df1_user[df1_user[\"count\"] >= 7][\"userId\"].tolist()\n",
    "print(len(userId_less_7))\n",
    "\n",
    "#filter the outliers\n",
    "df1_helpfulness = df1_helpfulness[df1_helpfulness['userId'].isin(userId_less_7)]\n",
    "print(\"number of users who rate less than 7 :\" , len(df1_helpfulness))"
   ]
  },
  {
   "cell_type": "code",
   "execution_count": 152,
   "id": "f9796c16",
   "metadata": {},
   "outputs": [
    {
     "name": "stdout",
     "output_type": "stream",
     "text": [
      "89\n",
      "82\n",
      "number of items that receives less than 11 ratings : 2685\n"
     ]
    }
   ],
   "source": [
    "#3. items that receives less than 11 ratings\n",
    "# remove outliers by group names\n",
    "df1_user = df1_helpfulness.groupby(\"item\").count()[\"rating\"].reset_index(name = \"count\")\n",
    "print(len(df1_user))\n",
    "\n",
    "df1_user.head()\n",
    "\n",
    "#finding items who that receives less than 11 ratings\n",
    "item_less_11 = df1_user[df1_user[\"count\"] >= 11][\"item\"].tolist()\n",
    "print(len(item_less_11))\n",
    "\n",
    "#filter the outliers\n",
    "df1_helpfulness = df1_helpfulness[df1_helpfulness[\"item\"].isin(item_less_11)]\n",
    "print(\"number of items that receives less than 11 ratings :\" , len(df1_helpfulness))"
   ]
  },
  {
   "cell_type": "code",
   "execution_count": 153,
   "id": "48ea9659",
   "metadata": {},
   "outputs": [],
   "source": [
    "df1_helpfulness.to_csv(\"The E-commerce Dataset_updated.csv\", index=False)"
   ]
  }
 ],
 "metadata": {
  "colab": {
   "provenance": []
  },
  "kernelspec": {
   "display_name": "Python 3 (ipykernel)",
   "language": "python",
   "name": "python3"
  },
  "language_info": {
   "codemirror_mode": {
    "name": "ipython",
    "version": 3
   },
   "file_extension": ".py",
   "mimetype": "text/x-python",
   "name": "python",
   "nbconvert_exporter": "python",
   "pygments_lexer": "ipython3",
   "version": "3.11.5"
  }
 },
 "nbformat": 4,
 "nbformat_minor": 5
}
