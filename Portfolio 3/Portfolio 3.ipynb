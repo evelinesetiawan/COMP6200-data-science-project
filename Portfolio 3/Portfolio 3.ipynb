{
 "cells": [
  {
   "cell_type": "markdown",
   "metadata": {
    "id": "n0ZKqZaTWkpg"
   },
   "source": [
    "# Portfolio Part 3 - Analysis of Mobile Price Data (2024 S1)"
   ]
  },
  {
   "cell_type": "markdown",
   "metadata": {
    "id": "O9R7rVmlXaMX"
   },
   "source": [
    "In this Portfolio task, you will work on a new dataset named 'Mobile Price Data', it contains numerous details about mobile phone hardware, specifications, and prices. Your main task is to train classification models to predict **mobile phone prices** ('price range' in the dataset)and evaluate the strengths and weaknesses of these models."
   ]
  },
  {
   "cell_type": "markdown",
   "metadata": {
    "id": "zHC8wWkVZVBG"
   },
   "source": [
    "Here's the explanation of each column:"
   ]
  },
  {
   "cell_type": "markdown",
   "metadata": {
    "id": "_O1tyfN3ZvE-"
   },
   "source": [
    "|Column|Meaning|\n",
    "|:-----:|:-----:|\n",
    "|battery power|Total energy a battery can store in one time measured in mAh|\n",
    "|blue|Has bluetooth or not|\n",
    "|clock speed|speed at which microprocessor executes instructions|\n",
    "|dual sim|Has dual sim support or not|\n",
    "|fc|Front Camera mega pixels|\n",
    "|four g|Has 4G or not|\n",
    "|int memory|Internal Memory in Gigabytes|\n",
    "|m dep|Mobile Depth in cm|\n",
    "|mobile wt|Weight of mobile phone|\n",
    "|n cores|Number of cores of processor|\n",
    "|pc|Primary Camera mega pixels|\n",
    "|px height|Pixel Resolution Height|\n",
    "|px width|Pixel Resolution Width|\n",
    "|ram|Random Access Memory in Mega Bytes|\n",
    "|sc h|Screen Height of mobile in cm|\n",
    "|sc w|Screen Width of mobile in cm|\n",
    "|talk time|longest time that a single battery charge will last when you are|\n",
    "|three g|Has 3G or not|\n",
    "|touch screen|Has touch screen or not|\n",
    "|wifi|Has wifi or not|\n",
    "|price range|This is the target variable with value of 0(low cost), 1(medium cost), 2(high cost) and 3(very high cost)|"
   ]
  },
  {
   "cell_type": "markdown",
   "metadata": {
    "id": "fmFqaGooclqa"
   },
   "source": [
    "Blue, dual sim, four g, three g, touch screen, and wifi are all binary attributes, 0 for not and 1 for yes."
   ]
  },
  {
   "cell_type": "markdown",
   "metadata": {
    "id": "o0VDQbC-es_8"
   },
   "source": [
    "Your high level goal in this notebook is to build and evaluate predictive models for 'price range' from other available features. More specifically, you need to **complete the following major steps**:\n",
    "\n",
    "1. ***Explore the data*** and ***clean the data if necessary***. For example, remove abnormal instanaces and replace missing values.\n",
    "\n",
    "2. ***Study the correlation*** between 'price range' with other features. And ***select the variables*** that you think are helpful for predicting the price range. We do not limit the number of variables.\n",
    "\n",
    "3. ***Split the dataset*** (Training set : Test set = 8 : 2)\n",
    "\n",
    "4. ***Train a logistic regression model*** to predict 'price range' based on the selected features (from the second step). ***Calculate the accuracy*** of your model. (You are required to report the accuracy from both training set and test set.) ***Explain your model and evaluate its performance*** (Is the model performing well? If yes, what factors might be contributing to the good performance of your model? If not, how can improvements be made?).\n",
    "\n",
    "5. ***Train a KNN model*** to predict 'price range' based on the selected features (you can use the features selected from the second step and set K with an ad-hoc manner in this step. ***Calculate the accuracy*** of your model. (You are required to report the accuracy from both training set and test set.)\n",
    "\n",
    "6. ***Tune the hyper-parameter K*** in KNN (Hints: GridsearchCV), ***visualize the results***, and ***explain*** how K influences the prediction performance.\n",
    "\n",
    "  Hints for visualization: You can use line chart to visualize K and mean accuracy scores on test set."
   ]
  },
  {
   "cell_type": "markdown",
   "metadata": {
    "id": "RAcIxzIldzSZ"
   },
   "source": [
    "Note 1: In this assignment, we no longer provide specific guidance and templates for each sub task. You should learn how to properly comment your notebook by yourself to make your notebook file readable.\n",
    "\n",
    "Note 2: You will not being evaluated on the accuracy of the model but on the process that you use to generate it and your explanation."
   ]
  },
  {
   "cell_type": "markdown",
   "metadata": {},
   "source": [
    "# Explores Data\n",
    "Below, i input some tools, dataset and did data cleaning"
   ]
  },
  {
   "cell_type": "code",
   "execution_count": 1,
   "metadata": {},
   "outputs": [],
   "source": [
    "#input the dataset on Jupyter Notebook\n",
    "\n",
    "import pandas as pd\n",
    "import numpy as np\n",
    "import matplotlib.pyplot as plt\n",
    "from sklearn.model_selection import train_test_split\n",
    "from sklearn.linear_model import LogisticRegression\n",
    "from sklearn.metrics import accuracy_score\n",
    "from sklearn.neighbors import KNeighborsClassifier\n",
    "from sklearn.neighbors import KNeighborsRegressor\n",
    "from sklearn.model_selection import GridSearchCV\n",
    "%matplotlib inline\n",
    "\n",
    "ds = '/Users/evelinesetiawan/Downloads/MQ BA materials/COMP6200_Data Science/portfolio-part-3-evelineps178/resources/Mobile_Price_Data.csv'\n",
    "df = pd.read_csv(ds)"
   ]
  },
  {
   "cell_type": "code",
   "execution_count": 2,
   "metadata": {},
   "outputs": [
    {
     "data": {
      "text/plain": [
       "battery_power    0\n",
       "blue             0\n",
       "clock_speed      0\n",
       "dual_sim         0\n",
       "fc               0\n",
       "four_g           0\n",
       "int_memory       1\n",
       "m_dep            1\n",
       "mobile_wt        0\n",
       "n_cores          0\n",
       "pc               0\n",
       "px_height        0\n",
       "px_width         1\n",
       "ram              1\n",
       "sc_h             0\n",
       "sc_w             0\n",
       "talk_time        0\n",
       "three_g          1\n",
       "touch_screen     0\n",
       "wifi             0\n",
       "price_range      0\n",
       "dtype: int64"
      ]
     },
     "execution_count": 2,
     "metadata": {},
     "output_type": "execute_result"
    }
   ],
   "source": [
    "# see if there are any missing value in each columns and rows\n",
    "\n",
    "pd.isnull(df).head()\n",
    "df.isnull().sum()"
   ]
  },
  {
   "cell_type": "code",
   "execution_count": 3,
   "metadata": {
    "scrolled": true
   },
   "outputs": [
    {
     "data": {
      "text/html": [
       "<div>\n",
       "<style scoped>\n",
       "    .dataframe tbody tr th:only-of-type {\n",
       "        vertical-align: middle;\n",
       "    }\n",
       "\n",
       "    .dataframe tbody tr th {\n",
       "        vertical-align: top;\n",
       "    }\n",
       "\n",
       "    .dataframe thead th {\n",
       "        text-align: right;\n",
       "    }\n",
       "</style>\n",
       "<table border=\"1\" class=\"dataframe\">\n",
       "  <thead>\n",
       "    <tr style=\"text-align: right;\">\n",
       "      <th></th>\n",
       "      <th>battery_power</th>\n",
       "      <th>blue</th>\n",
       "      <th>clock_speed</th>\n",
       "      <th>dual_sim</th>\n",
       "      <th>fc</th>\n",
       "      <th>four_g</th>\n",
       "      <th>int_memory</th>\n",
       "      <th>m_dep</th>\n",
       "      <th>mobile_wt</th>\n",
       "      <th>n_cores</th>\n",
       "      <th>...</th>\n",
       "      <th>px_height</th>\n",
       "      <th>px_width</th>\n",
       "      <th>ram</th>\n",
       "      <th>sc_h</th>\n",
       "      <th>sc_w</th>\n",
       "      <th>talk_time</th>\n",
       "      <th>three_g</th>\n",
       "      <th>touch_screen</th>\n",
       "      <th>wifi</th>\n",
       "      <th>price_range</th>\n",
       "    </tr>\n",
       "  </thead>\n",
       "  <tbody>\n",
       "    <tr>\n",
       "      <th>0</th>\n",
       "      <td>842</td>\n",
       "      <td>0</td>\n",
       "      <td>2.2</td>\n",
       "      <td>0</td>\n",
       "      <td>1</td>\n",
       "      <td>0</td>\n",
       "      <td>7.0</td>\n",
       "      <td>0.6</td>\n",
       "      <td>188</td>\n",
       "      <td>2</td>\n",
       "      <td>...</td>\n",
       "      <td>20</td>\n",
       "      <td>756.0</td>\n",
       "      <td>2549.0</td>\n",
       "      <td>9</td>\n",
       "      <td>7</td>\n",
       "      <td>19</td>\n",
       "      <td>0.0</td>\n",
       "      <td>0</td>\n",
       "      <td>1</td>\n",
       "      <td>1</td>\n",
       "    </tr>\n",
       "    <tr>\n",
       "      <th>1</th>\n",
       "      <td>1021</td>\n",
       "      <td>1</td>\n",
       "      <td>0.5</td>\n",
       "      <td>1</td>\n",
       "      <td>0</td>\n",
       "      <td>1</td>\n",
       "      <td>53.0</td>\n",
       "      <td>0.7</td>\n",
       "      <td>136</td>\n",
       "      <td>3</td>\n",
       "      <td>...</td>\n",
       "      <td>905</td>\n",
       "      <td>1988.0</td>\n",
       "      <td>2631.0</td>\n",
       "      <td>17</td>\n",
       "      <td>3</td>\n",
       "      <td>7</td>\n",
       "      <td>1.0</td>\n",
       "      <td>1</td>\n",
       "      <td>0</td>\n",
       "      <td>2</td>\n",
       "    </tr>\n",
       "    <tr>\n",
       "      <th>2</th>\n",
       "      <td>563</td>\n",
       "      <td>1</td>\n",
       "      <td>0.5</td>\n",
       "      <td>1</td>\n",
       "      <td>2</td>\n",
       "      <td>1</td>\n",
       "      <td>41.0</td>\n",
       "      <td>0.9</td>\n",
       "      <td>145</td>\n",
       "      <td>5</td>\n",
       "      <td>...</td>\n",
       "      <td>1263</td>\n",
       "      <td>1716.0</td>\n",
       "      <td>2603.0</td>\n",
       "      <td>11</td>\n",
       "      <td>2</td>\n",
       "      <td>9</td>\n",
       "      <td>1.0</td>\n",
       "      <td>1</td>\n",
       "      <td>0</td>\n",
       "      <td>2</td>\n",
       "    </tr>\n",
       "    <tr>\n",
       "      <th>3</th>\n",
       "      <td>615</td>\n",
       "      <td>1</td>\n",
       "      <td>2.5</td>\n",
       "      <td>0</td>\n",
       "      <td>0</td>\n",
       "      <td>0</td>\n",
       "      <td>10.0</td>\n",
       "      <td>0.8</td>\n",
       "      <td>131</td>\n",
       "      <td>6</td>\n",
       "      <td>...</td>\n",
       "      <td>1216</td>\n",
       "      <td>1786.0</td>\n",
       "      <td>2769.0</td>\n",
       "      <td>16</td>\n",
       "      <td>8</td>\n",
       "      <td>11</td>\n",
       "      <td>1.0</td>\n",
       "      <td>0</td>\n",
       "      <td>0</td>\n",
       "      <td>2</td>\n",
       "    </tr>\n",
       "    <tr>\n",
       "      <th>4</th>\n",
       "      <td>1821</td>\n",
       "      <td>1</td>\n",
       "      <td>1.2</td>\n",
       "      <td>0</td>\n",
       "      <td>13</td>\n",
       "      <td>1</td>\n",
       "      <td>44.0</td>\n",
       "      <td>0.6</td>\n",
       "      <td>141</td>\n",
       "      <td>2</td>\n",
       "      <td>...</td>\n",
       "      <td>1208</td>\n",
       "      <td>1212.0</td>\n",
       "      <td>1411.0</td>\n",
       "      <td>8</td>\n",
       "      <td>2</td>\n",
       "      <td>15</td>\n",
       "      <td>1.0</td>\n",
       "      <td>1</td>\n",
       "      <td>0</td>\n",
       "      <td>1</td>\n",
       "    </tr>\n",
       "  </tbody>\n",
       "</table>\n",
       "<p>5 rows × 21 columns</p>\n",
       "</div>"
      ],
      "text/plain": [
       "   battery_power  blue  clock_speed  dual_sim  fc  four_g  int_memory  m_dep  \\\n",
       "0            842     0          2.2         0   1       0         7.0    0.6   \n",
       "1           1021     1          0.5         1   0       1        53.0    0.7   \n",
       "2            563     1          0.5         1   2       1        41.0    0.9   \n",
       "3            615     1          2.5         0   0       0        10.0    0.8   \n",
       "4           1821     1          1.2         0  13       1        44.0    0.6   \n",
       "\n",
       "   mobile_wt  n_cores  ...  px_height  px_width     ram  sc_h  sc_w  \\\n",
       "0        188        2  ...         20     756.0  2549.0     9     7   \n",
       "1        136        3  ...        905    1988.0  2631.0    17     3   \n",
       "2        145        5  ...       1263    1716.0  2603.0    11     2   \n",
       "3        131        6  ...       1216    1786.0  2769.0    16     8   \n",
       "4        141        2  ...       1208    1212.0  1411.0     8     2   \n",
       "\n",
       "   talk_time  three_g  touch_screen  wifi  price_range  \n",
       "0         19      0.0             0     1            1  \n",
       "1          7      1.0             1     0            2  \n",
       "2          9      1.0             1     0            2  \n",
       "3         11      1.0             0     0            2  \n",
       "4         15      1.0             1     0            1  \n",
       "\n",
       "[5 rows x 21 columns]"
      ]
     },
     "execution_count": 3,
     "metadata": {},
     "output_type": "execute_result"
    }
   ],
   "source": [
    "# drop missing value\n",
    "\n",
    "df_new = df.dropna()\n",
    "df_new.head()"
   ]
  },
  {
   "cell_type": "markdown",
   "metadata": {},
   "source": [
    "# Correlation"
   ]
  },
  {
   "cell_type": "code",
   "execution_count": 30,
   "metadata": {
    "scrolled": false
   },
   "outputs": [
    {
     "name": "stdout",
     "output_type": "stream",
     "text": [
      "touch_screen    -0.031155\n",
      "mobile_wt       -0.028663\n",
      "clock_speed     -0.006926\n",
      "m_dep            0.000776\n",
      "n_cores          0.003573\n",
      "four_g           0.014572\n",
      "dual_sim         0.018153\n",
      "fc               0.019327\n",
      "wifi             0.020394\n",
      "blue             0.020846\n",
      "talk_time        0.022085\n",
      "sc_h             0.023067\n",
      "three_g          0.023771\n",
      "pc               0.031831\n",
      "sc_w             0.037330\n",
      "int_memory       0.043861\n",
      "px_height        0.147946\n",
      "px_width         0.164763\n",
      "battery_power    0.202652\n",
      "ram              0.917131\n",
      "price_range      1.000000\n",
      "Name: price_range, dtype: float64\n"
     ]
    }
   ],
   "source": [
    "# create correlation between price_range and other variables\n",
    "\n",
    "correlation_price_range = df_new.corr()\n",
    "print(correlation_price_range['price_range'].sort_values(ascending=True))"
   ]
  },
  {
   "cell_type": "markdown",
   "metadata": {},
   "source": [
    "From the table above, we can see in sequences from the lowest value to the highest value of factors that might affect the price_range. Among those numbers, there are 4 variables that are correlating the most with the price_range that are ram, battery_power, px_width and px_height. While m_dep, n_cores and clock_speed are the variables that least likely to influence the price_range. \n",
    "\n",
    "Based on the table, we will testing the model using 4 strongest correlation figures : ram, battery_power, px_width and px_height."
   ]
  },
  {
   "cell_type": "markdown",
   "metadata": {},
   "source": [
    "# Split Dataset"
   ]
  },
  {
   "cell_type": "code",
   "execution_count": 5,
   "metadata": {},
   "outputs": [
    {
     "name": "stdout",
     "output_type": "stream",
     "text": [
      "X_train : (1596, 4)\n",
      "X_test : (399, 4)\n",
      "y_train : (1596,)\n",
      "y_test : (399,)\n"
     ]
    }
   ],
   "source": [
    "# split dataset in features and target variable\n",
    "feature_cols = ['ram', 'battery_power', 'px_width', 'px_height']\n",
    "X = df_new[feature_cols]\n",
    "y = df_new['price_range'] \n",
    "\n",
    "# split the dataset using training data containing 80% of the entire data\n",
    "X_train, X_test, y_train, y_test = train_test_split(X, y, test_size=0.2, random_state=142)\n",
    "\n",
    "print(\"X_train :\", X_train.shape)\n",
    "print(\"X_test :\", X_test.shape)\n",
    "print(\"y_train :\", y_train.shape)\n",
    "print(\"y_test :\", y_test.shape)"
   ]
  },
  {
   "cell_type": "markdown",
   "metadata": {},
   "source": [
    "# Train a Logistic Regression Model"
   ]
  },
  {
   "cell_type": "code",
   "execution_count": 6,
   "metadata": {},
   "outputs": [
    {
     "name": "stdout",
     "output_type": "stream",
     "text": [
      "Training Accuracy of Logistic Regression Model : 0.9586466165413534\n",
      "Test Accuracy of Logistic Regression Model : 0.974937343358396\n"
     ]
    }
   ],
   "source": [
    "# train a logistic regression between price_range and 4 correlated variables\n",
    "\n",
    "# Train the model\n",
    "logistic_model = LogisticRegression(max_iter=1000)\n",
    "logistic_model.fit(X_train, y_train)\n",
    "\n",
    "# Do predictions\n",
    "train_predictions = logistic_model.predict(X_train)\n",
    "test_predictions = logistic_model.predict(X_test)\n",
    "\n",
    "# Calculate accuracy\n",
    "train_accuracy = accuracy_score(y_train, train_predictions)\n",
    "test_accuracy = accuracy_score(y_test, test_predictions)\n",
    "\n",
    "print(\"Training Accuracy of Logistic Regression Model :\", train_accuracy)\n",
    "print(\"Test Accuracy of Logistic Regression Model :\", test_accuracy)"
   ]
  },
  {
   "cell_type": "markdown",
   "metadata": {},
   "source": [
    "After doing training and test accuracy using logistic regression, the results come out around 0,9, with 0,01 points lower of training accuracy than the test accuracy. To summarize, 0,97 result of test accuracy display the model rightly predict 97% of test dataset and it applies the same with training accuracy where the model forecast 95% justly of training dataset.\n",
    "\n",
    "Based on description above, the numbers of training and test accuracy both shows that the model perform well because the model is not overfitting the training data and is capturing underlying pattern effectively. Some factors behind the model running fit are :\n",
    "- Data quality : A clean and diverse dataset that accurately represents the problem domain and includes enough instances for the model to learn patterns is crucial.\n",
    "- Features selection : Choosing relevant features such as variables that has the strongest correlation with the price_range in this model, will help the analyst to analysis the model and understand "
   ]
  },
  {
   "cell_type": "markdown",
   "metadata": {},
   "source": [
    "# Train a KNN model"
   ]
  },
  {
   "cell_type": "code",
   "execution_count": 36,
   "metadata": {},
   "outputs": [
    {
     "name": "stdout",
     "output_type": "stream",
     "text": [
      "Training Accuracy of KNN model: 0.956140350877193\n",
      "Test Accuracy of KNN model: 0.8972431077694235\n"
     ]
    }
   ],
   "source": [
    "# Create and train the KNN model using the training data\n",
    "knn_model = KNeighborsClassifier(n_neighbors=5)\n",
    "knn_model.fit(X_train, y_train)\n",
    "\n",
    "# Make predictions on training and test data\n",
    "train_knn_predictions = knn_model.predict(X_train)\n",
    "test_knn_predictions = knn_model.predict(X_test)\n",
    "\n",
    "# Calculate accuracy of each model\n",
    "train_knn_accuracy = accuracy_score(y_train, train_knn_predictions)\n",
    "test_knn_accuracy = accuracy_score(y_test, test_knn_predictions)\n",
    "\n",
    "print(\"Training Accuracy of KNN model:\", train_knn_accuracy)\n",
    "print(\"Test Accuracy of KNN model:\", test_knn_accuracy)"
   ]
  },
  {
   "cell_type": "markdown",
   "metadata": {},
   "source": [
    "In training a KNN model, we use the same variables as in logistic regression model. Nonetheless, both training and test accuracy in KNN model show contradictory results from logistic regression model. Unlike the previous opinion, the higher number of training accuracy in this model compare to test accuracy can be interpreted the model is an overfitting one, where we can address this overfitting issue by use another parameters and or increasing the value of K."
   ]
  },
  {
   "cell_type": "code",
   "execution_count": 37,
   "metadata": {},
   "outputs": [
    {
     "data": {
      "image/png": "[encoded data removed]",
      "text/plain": [
       "<Figure size 640x480 with 1 Axes>"
      ]
     },
     "metadata": {},
     "output_type": "display_data"
    }
   ],
   "source": [
    "# Plot the accuracy trend\n",
    "training_error=list()\n",
    "testing_error=list()\n",
    "\n",
    "for i in range(1, 51):\n",
    "    clf = KNeighborsClassifier(n_neighbors = i)\n",
    "    clf.fit(X_train, y_train)\n",
    "    training_error.append(1.0-accuracy_score(clf.predict(X_train), y_train))\n",
    "    testing_error.append(1.0-accuracy_score(clf.predict(X_test), y_test))\n",
    "\n",
    "# Plot the relationship between training and testing error\n",
    "plt.plot(range(1, 51), training_error, marker='x', label='Trainining Error')\n",
    "plt.plot(range(1, 51), testing_error, marker='o', label='Testing Error')\n",
    "plt.xlabel('K')\n",
    "plt.ylabel('Error')\n",
    "plt.legend(loc='best')\n",
    "plt.show()"
   ]
  },
  {
   "cell_type": "markdown",
   "metadata": {},
   "source": [
    "The relationship between training error and test error is essential for assessing the model's performance capabilities. A low training error indicates that the model has effectively learned the patterns present in the training data. However, from the line graph above, compare to the testing error, the training error is in lower position than testing error which could indicate that the model is overfitting the training data."
   ]
  },
  {
   "cell_type": "markdown",
   "metadata": {},
   "source": [
    "# Tune the hyper-parameter K in KNN"
   ]
  },
  {
   "cell_type": "code",
   "execution_count": 10,
   "metadata": {},
   "outputs": [
    {
     "data": {
      "image/png": "[encoded data removed]",
      "text/plain": [
       "<Figure size 640x480 with 1 Axes>"
      ]
     },
     "metadata": {},
     "output_type": "display_data"
    }
   ],
   "source": [
    "# Define parameter\n",
    "parameter_grid = {'n_neighbors': range(1, 51)}  # Trying K from 1 to 50\n",
    "\n",
    "# Grid search\n",
    "grid_search = GridSearchCV(KNeighborsClassifier(), parameter_grid, cv=5, scoring='accuracy')\n",
    "grid_search.fit(X_train, y_train)\n",
    "\n",
    "# Visualize results\n",
    "plt.plot(range(1, 51), grid_search.cv_results_['mean_test_score'], marker=\".\")\n",
    "plt.xlabel('K value')\n",
    "plt.ylabel('Mean Test Accuracy')\n",
    "plt.title('Mean Test Accuracy vs. K value')\n",
    "plt.grid()\n",
    "plt.show()"
   ]
  },
  {
   "cell_type": "code",
   "execution_count": 11,
   "metadata": {},
   "outputs": [
    {
     "name": "stdout",
     "output_type": "stream",
     "text": [
      "Best K: 7\n",
      "The accuracy: 0.9317006269592477\n"
     ]
    }
   ],
   "source": [
    "# Best K\n",
    "best_k = grid_search.best_params_['n_neighbors']\n",
    "print(\"Best K:\", best_k)\n",
    "print(\"The accuracy:\", grid_search.best_score_)"
   ]
  },
  {
   "cell_type": "markdown",
   "metadata": {},
   "source": [
    "After tuning hyper-parameter K in KNN, the best of KNN value are out as 7 with the accuracy of 0,93.\n",
    "\n",
    "K value surely give impact to the prediction performance, where a small value of K can lead to high variance and overfitting, which the model is sensitive to noise in the training data. While a large value of K can lead to high bias and underfitting, where the model is too simple and fails to capture the underlying patterns in the data."
   ]
  }
 ],
 "metadata": {
  "colab": {
   "provenance": []
  },
  "kernelspec": {
   "display_name": "Python 3 (ipykernel)",
   "language": "python",
   "name": "python3"
  },
  "language_info": {
   "codemirror_mode": {
    "name": "ipython",
    "version": 3
   },
   "file_extension": ".py",
   "mimetype": "text/x-python",
   "name": "python",
   "nbconvert_exporter": "python",
   "pygments_lexer": "ipython3",
   "version": "3.11.5"
  }
 },
 "nbformat": 4,
 "nbformat_minor": 1
}
